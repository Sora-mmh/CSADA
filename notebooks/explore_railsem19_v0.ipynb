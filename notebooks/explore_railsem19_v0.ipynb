{
 "cells": [
  {
   "cell_type": "code",
   "execution_count": 30,
   "metadata": {},
   "outputs": [],
   "source": [
    "from pathlib import Path\n",
    "\n",
    "import cv2\n",
    "import json\n",
    "import matplotlib.pyplot as plt\n",
    "import numpy as np"
   ]
  },
  {
   "cell_type": "code",
   "execution_count": 3,
   "metadata": {},
   "outputs": [],
   "source": [
    "dataset_pth = Path(\"/home/mmhamdi/workspace/unsupervised/Unsupervised-Anomlay-Detection/data/wilddash2\")"
   ]
  },
  {
   "cell_type": "code",
   "execution_count": 5,
   "metadata": {},
   "outputs": [],
   "source": [
    "name = \"rs19_val\""
   ]
  },
  {
   "cell_type": "code",
   "execution_count": 6,
   "metadata": {},
   "outputs": [],
   "source": [
    "railsem_pth = dataset_pth / name"
   ]
  },
  {
   "cell_type": "code",
   "execution_count": 95,
   "metadata": {},
   "outputs": [],
   "source": [
    "imgs = sorted(list((railsem_pth / \"jpgs\" / name).iterdir()))\n",
    "annotations = sorted(list((railsem_pth / \"jsons\" / name).iterdir()))"
   ]
  },
  {
   "cell_type": "code",
   "execution_count": 96,
   "metadata": {},
   "outputs": [],
   "source": [
    "# img = cv2.imread(imgs[0].as_posix())"
   ]
  },
  {
   "cell_type": "code",
   "execution_count": 97,
   "metadata": {},
   "outputs": [],
   "source": [
    "# plt.imshow(img)"
   ]
  },
  {
   "cell_type": "code",
   "execution_count": 216,
   "metadata": {},
   "outputs": [],
   "source": [
    "rs19_label2bgr = {\"buffer-stop\": (70,70,70),\n",
    "                  \"crossing\": (128,64,128),\n",
    "                  \"guard-rail\": (0,255,0),\n",
    "                  \"train-car\" :  (100,80,0),\n",
    "                  \"platform\" : (232,35,244),\n",
    "                  \"rail\": (255,0, 0),\n",
    "                  \"switch-indicator\": (127,255,0),\n",
    "                  \"switch-left\": (255,255,0),\n",
    "                  \"switch-right\": (127,127,0),\n",
    "                  \"switch-unknown\": (191,191,0),\n",
    "                  \"switch-static\": (0,255,127),\n",
    "                  \"track-sign-front\" : (0,220,220),\n",
    "                  \"track-signal-front\" : (30,170,250),\n",
    "                  \"track-signal-back\" : (0,85,125),\n",
    "                  #rail occluders\n",
    "                  \"person-group\" : (60,20,220),\n",
    "                  \"car\" : (142,0,0),\n",
    "                  \"fence\" : (153,153,190),\n",
    "                  \"person\" : (60,20,220),\n",
    "                  \"pole\" : (153,153,153),\n",
    "                  \"rail-occluder\" : (255,255,255),\n",
    "                  \"truck\" : (70,0,0)\n",
    "                }"
   ]
  },
  {
   "cell_type": "code",
   "execution_count": 229,
   "metadata": {},
   "outputs": [],
   "source": [
    "cls = list(rs19_label2bgr.keys())"
   ]
  },
  {
   "cell_type": "code",
   "execution_count": 231,
   "metadata": {},
   "outputs": [
    {
     "data": {
      "text/plain": [
       "21"
      ]
     },
     "execution_count": 231,
     "metadata": {},
     "output_type": "execute_result"
    }
   ],
   "source": [
    "len(cls)"
   ]
  },
  {
   "cell_type": "code",
   "execution_count": 318,
   "metadata": {},
   "outputs": [],
   "source": [
    "def corss_hatch_rail(im_vis, coords, color_left=(255,255,0), color_right=(127,127,0)):\n",
    "    ml = min(len(coords[0]), len(coords[1]))\n",
    "    for i in range(ml):\n",
    "        midpnt = ((coords[0][i][0]+coords[1][i][0])//2, (coords[0][i][1]+coords[1][i][1])//2)\n",
    "        cv2.line(im_vis, tuple(coords[0][i]), midpnt, color_left)\n",
    "        cv2.line(im_vis, midpnt, tuple(coords[1][i]), color_right)\n",
    "\n",
    "\n",
    "def extract_objects(annotation_pth, img_pth, line_thickness=-1):\n",
    "    annotation = json.load(open(annotation_pth, 'r'))\n",
    "    # img_gt = cv2.imread(img_pth)\n",
    "    img_gt = np.zeros((annotation[\"imgHeight\"], annotation[\"imgWidth\"],3), dtype=np.uint8)\n",
    "    for object in annotation[\"objects\"]:\n",
    "        col = (255, 255, 255) #rs19_label2bgr.get(object[\"label\"],[255,255,255])\n",
    "        if \"boundingbox\" in object:\n",
    "            cv2.rectangle(img_gt, tuple(object[\"boundingbox\"][0:2]), tuple(object[\"boundingbox\"][2:4]), col, line_thickness)\n",
    "        elif \"polygon\" in object:\n",
    "            pnts_draw = np.around(np.array(object[\"polygon\"])).astype(np.int32)\n",
    "            cv2.fillPoly(img_gt, [pnts_draw], col)\n",
    "        elif \"polyline-pair\" in object:\n",
    "            # rails_draw = [np.around(np.array(object[\"polyline-pair\"][i])).astype(np.int32) for i in range(2)]\n",
    "            # left_rail = np.around(np.array(object[\"polyline-pair\"][0])).astype(np.int32)\n",
    "            # right_rail = np.around(np.array(object[\"polyline-pair\"][1])).astype(np.int32)\n",
    "            # cv2.fillPoly(img_gt, [left_rail], col)\n",
    "            # cv2.fillPoly(img_gt, [right_rail], col)\n",
    "            rails_draw = [np.around(np.array(object[\"polyline-pair\"][i])).astype(np.int32) for i in range(2)]\n",
    "            # corss_hatch_rail(img_gt, object[\"polyline-pair\"],  rs19_label2bgr['switch-left'], rs19_label2bgr['switch-right'])\n",
    "            # cv2.polylines(img_gt, [rails_draw[1]], False, col)\n",
    "        elif \"polyline\" in object:\n",
    "            rail_draw = np.around(np.array(object[\"polyline\"])).astype(np.int32)\n",
    "            cv2.fillPoly(img_gt, [rail_draw], col)\n",
    "    return img_gt, annotation[\"frame\"]\n",
    "        "
   ]
  },
  {
   "cell_type": "code",
   "execution_count": 319,
   "metadata": {},
   "outputs": [],
   "source": [
    "idx = 0\n",
    "img_gt, frame = extract_objects(annotation_pth=annotations[idx].as_posix(), img_pth=imgs[idx].as_posix())"
   ]
  },
  {
   "cell_type": "code",
   "execution_count": 322,
   "metadata": {},
   "outputs": [
    {
     "data": {
      "text/plain": [
       "True"
      ]
     },
     "execution_count": 322,
     "metadata": {},
     "output_type": "execute_result"
    }
   ],
   "source": [
    "cv2.imwrite(\"/home/mmhamdi/workspace/unsupervised/Unsupervised-Anomlay-Detection/other/Unsupervised-Anomlay-Detection/roi/railsem_mask.png\", img_gt)"
   ]
  },
  {
   "cell_type": "code",
   "execution_count": 321,
   "metadata": {},
   "outputs": [
    {
     "data": {
      "text/plain": [
       "<matplotlib.image.AxesImage at 0x7f0c23954310>"
      ]
     },
     "execution_count": 321,
     "metadata": {},
     "output_type": "execute_result"
    },
    {
     "data": {
      "image/png": "[encoded data removed]",
      "text/plain": [
       "<Figure size 640x480 with 1 Axes>"
      ]
     },
     "metadata": {},
     "output_type": "display_data"
    }
   ],
   "source": [
    "plt.imshow(img_gt)"
   ]
  },
  {
   "cell_type": "code",
   "execution_count": 120,
   "metadata": {},
   "outputs": [],
   "source": [
    "rail_objectects = set()\n",
    "for annotation_pth in annotations:\n",
    "    with open(annotation_pth.as_posix(), \"r\") as file:\n",
    "        annotation = json.load(file)\n",
    "    for objectect in annotation[\"objectects\"]:\n",
    "        if \"rail\" in objectect[\"label\"]:\n",
    "            rail_objectects.add(annotation_pth)"
   ]
  },
  {
   "cell_type": "code",
   "execution_count": 323,
   "metadata": {},
   "outputs": [],
   "source": [
    "seg_map_pth = \"/home/mmhamdi/workspace/unsupervised/Unsupervised-Anomlay-Detection/data/wilddash2/rs19_val/uint8/rs19_val/rs00000.png\""
   ]
  },
  {
   "cell_type": "code",
   "execution_count": 324,
   "metadata": {},
   "outputs": [],
   "source": [
    "seg_map = cv2.imread(seg_map_pth)"
   ]
  },
  {
   "cell_type": "code",
   "execution_count": 325,
   "metadata": {},
   "outputs": [
    {
     "data": {
      "text/plain": [
       "<matplotlib.image.AxesImage at 0x7f0c239bff40>"
      ]
     },
     "execution_count": 325,
     "metadata": {},
     "output_type": "execute_result"
    },
    {
     "data": {
      "image/png": "[encoded data removed]",
      "text/plain": [
       "<Figure size 640x480 with 1 Axes>"
      ]
     },
     "metadata": {},
     "output_type": "display_data"
    }
   ],
   "source": [
    "plt.imshow(seg_map)"
   ]
  },
  {
   "cell_type": "code",
   "execution_count": 328,
   "metadata": {},
   "outputs": [
    {
     "data": {
      "text/plain": [
       "array([  0,   1,   2,   5,   8,   9,  10,  12,  13,  15,  17, 255],\n",
       "      dtype=uint8)"
      ]
     },
     "execution_count": 328,
     "metadata": {},
     "output_type": "execute_result"
    }
   ],
   "source": [
    "np.unique(seg_map)"
   ]
  },
  {
   "cell_type": "code",
   "execution_count": null,
   "metadata": {},
   "outputs": [],
   "source": []
  }
 ],
 "metadata": {
  "kernelspec": {
   "display_name": "Python 3",
   "language": "python",
   "name": "python3"
  },
  "language_info": {
   "codemirror_mode": {
    "name": "ipython",
    "version": 3
   },
   "file_extension": ".py",
   "mimetype": "text/x-python",
   "name": "python",
   "nbconvert_exporter": "python",
   "pygments_lexer": "ipython3",
   "version": "3.8.10"
  }
 },
 "nbformat": 4,
 "nbformat_minor": 2
}
